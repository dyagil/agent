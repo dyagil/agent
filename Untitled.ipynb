{
 "cells": [
  {
   "cell_type": "code",
   "execution_count": 1,
   "id": "5c7e9f49",
   "metadata": {},
   "outputs": [
    {
     "data": {
      "application/vnd.jupyter.widget-view+json": {
       "model_id": "8a6236e8dea2405fbb3ccc6734d675b1",
       "version_major": 2,
       "version_minor": 0
      },
      "text/plain": [
       "VBox(children=(FloatText(value=1200.0, description='הפרמיה השנתית:'), FloatSlider(value=0.5, description='חלוק…"
      ]
     },
     "execution_count": 1,
     "metadata": {},
     "output_type": "execute_result"
    }
   ],
   "source": [
    "from ipywidgets import FloatText, FloatSlider, HBox, VBox, Button, Output\n",
    "\n",
    "# Define the widgets\n",
    "premium_annual_input = FloatText(value=1200, description='הפרמיה השנתית:')\n",
    "split_percentage_input = FloatSlider(value=0.5, min=0, max=1, step=0.01, description='חלוקת הפרמיה:')\n",
    "your_commission_percentage_volume_input = FloatSlider(value=0.75, min=0, max=1, step=0.01, description='עמלת היקף שלך:')\n",
    "your_commission_percentage_collected_input = FloatSlider(value=0.23, min=0, max=1, step=0.01, description='עמלת נפרעים שלך:')\n",
    "agent_commission_percentage_volume_input = FloatSlider(value=0.60, min=0, max=1, step=0.01, description='עמלת היקף של הסוכן:')\n",
    "agent_commission_percentage_collected_input = FloatSlider(value=0.20, min=0, max=1, step=0.01, description='עמלת נפרעים של הסוכן:')\n",
    "\n",
    "# Button to perform the calculation\n",
    "calculate_button = Button(description='בצע חישוב')\n",
    "output = Output()\n",
    "\n",
    "# Function to perform the calculation\n",
    "def calculate_commission(button):\n",
    "    with output:\n",
    "        output.clear_output()\n",
    "        # Retrieve data from widgets\n",
    "        premium_annual = premium_annual_input.value\n",
    "        split_percentage = split_percentage_input.value\n",
    "        your_commission_percentage_volume = your_commission_percentage_volume_input.value\n",
    "        your_commission_percentage_collected = your_commission_percentage_collected_input.value\n",
    "        agent_commission_percentage_volume = agent_commission_percentage_volume_input.value\n",
    "        agent_commission_percentage_collected = agent_commission_percentage_collected_input.value\n",
    "\n",
    "        # Calculations\n",
    "        your_premium = premium_annual * split_percentage\n",
    "        agent_premium = premium_annual * (1 - split_percentage)\n",
    "\n",
    "        your_commission_volume = your_premium * your_commission_percentage_volume\n",
    "        your_commission_collected = your_premium / 12 * your_commission_percentage_collected\n",
    "\n",
    "        agent_commission_volume = agent_premium * agent_commission_percentage_volume\n",
    "        agent_commission_collected = agent_premium / 12 * agent_commission_percentage_collected\n",
    "\n",
    "        your_cut_from_agent_volume = (your_commission_percentage_volume - agent_commission_percentage_volume) * agent_premium\n",
    "        your_cut_from_agent_collected = (your_commission_percentage_collected - agent_commission_percentage_collected) * agent_premium / 12\n",
    "\n",
    "        total_commission = your_commission_volume + your_commission_collected + your_cut_from_agent_volume + your_cut_from_agent_collected\n",
    "\n",
    "        # Display results\n",
    "        print(f'העמלה הכוללת שתקבל היא: {total_commission:.2f} ש\"ח')\n",
    "\n",
    "# Attach the function to the button\n",
    "calculate_button.on_click(calculate_commission)\n",
    "\n",
    "# Display the widgets and button\n",
    "VBox([premium_annual_input, split_percentage_input, your_commission_percentage_volume_input, your_commission_percentage_collected_input, agent_commission_percentage_volume_input, agent_commission_percentage_collected_input, calculate_button, output])"
   ]
  },
  {
   "cell_type": "code",
   "execution_count": null,
   "id": "0a9dae96",
   "metadata": {},
   "outputs": [],
   "source": []
  }
 ],
 "metadata": {
  "kernelspec": {
   "display_name": "Python 3 (ipykernel)",
   "language": "python",
   "name": "python3"
  },
  "language_info": {
   "codemirror_mode": {
    "name": "ipython",
    "version": 3
   },
   "file_extension": ".py",
   "mimetype": "text/x-python",
   "name": "python",
   "nbconvert_exporter": "python",
   "pygments_lexer": "ipython3",
   "version": "3.11.3"
  }
 },
 "nbformat": 4,
 "nbformat_minor": 5
}
